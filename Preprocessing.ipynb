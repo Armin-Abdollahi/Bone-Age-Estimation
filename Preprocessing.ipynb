{
  "nbformat": 4,
  "nbformat_minor": 0,
  "metadata": {
    "colab": {
      "provenance": [],
      "gpuType": "T4",
      "authorship_tag": "ABX9TyOBq+MH88d+UB+Qp2yjntFp",
      "include_colab_link": true
    },
    "kernelspec": {
      "name": "python3",
      "display_name": "Python 3"
    },
    "language_info": {
      "name": "python"
    },
    "accelerator": "GPU"
  },
  "cells": [
    {
      "cell_type": "markdown",
      "metadata": {
        "id": "view-in-github",
        "colab_type": "text"
      },
      "source": [
        "<a href=\"https://colab.research.google.com/github/Armin-Abdollahi/Bone-Age-Estimation/blob/main/Preprocessing.ipynb\" target=\"_parent\"><img src=\"https://colab.research.google.com/assets/colab-badge.svg\" alt=\"Open In Colab\"/></a>"
      ]
    },
    {
      "cell_type": "code",
      "execution_count": 1,
      "metadata": {
        "colab": {
          "base_uri": "https://localhost:8080/"
        },
        "id": "_752Hf-Odb5G",
        "outputId": "d3a95329-3327-44f2-b444-b22ccc35d2a8"
      },
      "outputs": [
        {
          "output_type": "stream",
          "name": "stdout",
          "text": [
            "Mounted at /content/drive\n"
          ]
        }
      ],
      "source": [
        "from google.colab import drive\n",
        "drive.mount('/content/drive')"
      ]
    },
    {
      "cell_type": "code",
      "source": [
        "import os\n",
        "\n",
        "# Define the directory to search\n",
        "directory = \"/content/drive/MyDrive/Digital_Hand_Atlas_Dataset/Total_Images\"\n",
        "\n",
        "# Generate a set of expected image names (assuming .jpg extension)\n",
        "expected_images = {f\"{i}.jpg\" for i in range(1, 7394)}\n",
        "\n",
        "# Get a set of actual image names in the directory\n",
        "actual_images = set(os.listdir(directory))\n",
        "\n",
        "# Find the difference - images that are missing\n",
        "missing_images = expected_images - actual_images\n",
        "\n",
        "# Print out the missing images\n",
        "if missing_images:\n",
        "    print(\"Missing images:\", sorted(missing_images))\n",
        "else:\n",
        "    print(\"No images are missing.\")"
      ],
      "metadata": {
        "colab": {
          "base_uri": "https://localhost:8080/"
        },
        "id": "g-WdDNHvdsTe",
        "outputId": "8c302ac8-8f97-4329-fede-7c9711392f3b"
      },
      "execution_count": 2,
      "outputs": [
        {
          "output_type": "stream",
          "name": "stdout",
          "text": [
            "No images are missing.\n"
          ]
        }
      ]
    },
    {
      "cell_type": "code",
      "source": [
        "import os\n",
        "\n",
        "# Define the directory to search\n",
        "directory = \"/content/drive/MyDrive/Digital_Hand_Atlas_Dataset/Total_Images\"\n",
        "\n",
        "# Get a list of files in the directory\n",
        "files = os.listdir(directory)\n",
        "\n",
        "# Initialize a set to store unique image formats\n",
        "image_formats = set()\n",
        "\n",
        "# Loop through the files and add the extension to the set\n",
        "for file in files:\n",
        "    extension = os.path.splitext(file)[1]\n",
        "    image_formats.add(extension)\n",
        "\n",
        "# Print out the different image formats\n",
        "print(\"Different image formats:\", image_formats)"
      ],
      "metadata": {
        "colab": {
          "base_uri": "https://localhost:8080/"
        },
        "id": "f6jm1s04dsQD",
        "outputId": "226c8e3b-1f02-400d-a252-2f19c7e5d520"
      },
      "execution_count": 3,
      "outputs": [
        {
          "output_type": "stream",
          "name": "stdout",
          "text": [
            "Different image formats: {'.jpg'}\n"
          ]
        }
      ]
    },
    {
      "cell_type": "code",
      "source": [
        "from PIL import Image\n",
        "import os\n",
        "\n",
        "# Define the directory to search\n",
        "directory = \"/content/drive/MyDrive/Digital_Hand_Atlas_Dataset/Total_Images\"\n",
        "\n",
        "# Initialize max dimensions\n",
        "max_width = 0\n",
        "max_height = 0\n",
        "\n",
        "# Loop through each image in the directory\n",
        "for filename in os.listdir(directory):\n",
        "    if filename.endswith(('.png', '.jpg', '.jpeg', '.bmp', '.gif')): # Add or remove formats as needed\n",
        "        image_path = os.path.join(directory, filename)\n",
        "        with Image.open(image_path) as img:\n",
        "            width, height = img.size\n",
        "            # Update max dimensions\n",
        "            max_width = max(max_width, width)\n",
        "            max_height = max(max_height, height)\n",
        "\n",
        "# Print out the maximum dimensions\n",
        "print(f\"The maximum width is: {max_width} pixels\")\n",
        "print(f\"The maximum height is: {max_height} pixels\")"
      ],
      "metadata": {
        "colab": {
          "base_uri": "https://localhost:8080/"
        },
        "id": "mXKYQZYWdsNf",
        "outputId": "3996f93b-5f37-4e51-f805-902316fa7b0a"
      },
      "execution_count": 4,
      "outputs": [
        {
          "output_type": "stream",
          "name": "stdout",
          "text": [
            "The maximum width is: 2775 pixels\n",
            "The maximum height is: 2777 pixels\n"
          ]
        }
      ]
    },
    {
      "cell_type": "code",
      "source": [
        "from PIL import Image\n",
        "import os\n",
        "\n",
        "# Define the directory to search\n",
        "directory = \"/content/drive/MyDrive/Digital_Hand_Atlas_Dataset/Total_Images\"\n",
        "\n",
        "# Initialize min dimensions with a large number\n",
        "min_width = float('inf')\n",
        "min_height = float('inf')\n",
        "\n",
        "# Loop through each image in the directory\n",
        "for filename in os.listdir(directory):\n",
        "    if filename.endswith(('.png', '.jpg', '.jpeg', '.bmp', '.gif')): # Add or remove formats as needed\n",
        "        image_path = os.path.join(directory, filename)\n",
        "        with Image.open(image_path) as img:\n",
        "            width, height = img.size\n",
        "            # Update min dimensions\n",
        "            min_width = min(min_width, width)\n",
        "            min_height = min(min_height, height)\n",
        "\n",
        "# Check if min dimensions were updated\n",
        "if min_width == float('inf') or min_height == float('inf'):\n",
        "    print(\"No images found in the directory.\")\n",
        "else:\n",
        "    print(f\"The minimum width is: {min_width} pixels\")\n",
        "    print(f\"The minimum height is: {min_height} pixels\")"
      ],
      "metadata": {
        "colab": {
          "base_uri": "https://localhost:8080/"
        },
        "id": "Zs5O5ePed2zn",
        "outputId": "e4b44417-2fa3-4d73-f1f7-f75160fd5371"
      },
      "execution_count": 5,
      "outputs": [
        {
          "output_type": "stream",
          "name": "stdout",
          "text": [
            "The minimum width is: 275 pixels\n",
            "The minimum height is: 375 pixels\n"
          ]
        }
      ]
    },
    {
      "cell_type": "code",
      "source": [
        "from PIL import Image, ImageOps\n",
        "import os\n",
        "\n",
        "# Define the directory to search and the new directory to save bordered images\n",
        "original_directory = \"/content/drive/MyDrive/Digital_Hand_Atlas_Dataset/Total_Images\"\n",
        "new_directory = \"/content/drive/MyDrive/Digital_Hand_Atlas_Dataset/Total_Images/Bordered_XRay_Images\"\n",
        "\n",
        "# Create the new directory if it doesn't exist\n",
        "if not os.path.exists(new_directory):\n",
        "    os.makedirs(new_directory)\n",
        "\n",
        "# Define the maximum dimensions\n",
        "max_width = 2775\n",
        "max_height = 2777\n",
        "\n",
        "# Function to add borders to an image\n",
        "def add_borders_and_save(image_path, bordered_image_path, max_width, max_height):\n",
        "    with Image.open(image_path) as img:\n",
        "        # Convert the image to RGB if it's not already in that mode\n",
        "        img = img.convert('RGB')\n",
        "\n",
        "        # Calculate the padding needed to achieve the max dimensions\n",
        "        delta_w = max_width - img.size[0]\n",
        "        delta_h = max_height - img.size[1]\n",
        "        padding = (delta_w // 2, delta_h // 2, delta_w - (delta_w // 2), delta_h - (delta_h // 2))\n",
        "\n",
        "        # Create a new image with white background\n",
        "        new_img = Image.new('RGB', (max_width, max_height), \"white\")\n",
        "\n",
        "        # Paste the original image onto the center of the new image\n",
        "        new_img.paste(img, (padding[0], padding[1]))\n",
        "\n",
        "        # Save the new image with borders\n",
        "        new_img.save(bordered_image_path)\n",
        "\n",
        "# Loop through each image in the original directory\n",
        "for filename in os.listdir(original_directory):\n",
        "    if filename.endswith(('.png', '.jpg', '.jpeg', '.bmp', '.gif')): # Add or remove formats as needed\n",
        "        original_image_path = os.path.join(original_directory, filename)\n",
        "        bordered_image_path = os.path.join(new_directory, filename)\n",
        "        add_borders_and_save(original_image_path, bordered_image_path, max_width, max_height)\n",
        "\n",
        "print(f\"All images have been processed and saved in {new_directory}.\")"
      ],
      "metadata": {
        "colab": {
          "base_uri": "https://localhost:8080/"
        },
        "id": "-dz-i-LVd2tk",
        "outputId": "e3b17ea3-561b-4b09-fc8b-c9441258db9c"
      },
      "execution_count": 7,
      "outputs": [
        {
          "output_type": "stream",
          "name": "stdout",
          "text": [
            "All images have been processed and saved in /content/drive/MyDrive/Digital_Hand_Atlas_Dataset/Total_Images/Bordered_XRay_Images.\n"
          ]
        }
      ]
    },
    {
      "cell_type": "code",
      "source": [
        "import os\n",
        "\n",
        "# Define the directory containing the images\n",
        "directory = \"/content/drive/MyDrive/Digital_Hand_Atlas_Dataset/Total_Images\"\n",
        "\n",
        "# Initialize a counter\n",
        "image_count = 0\n",
        "\n",
        "# List all files in the directory and increment the counter for each image\n",
        "for filename in os.listdir(directory):\n",
        "    if filename.endswith(('.png', '.jpg', '.jpeg', '.bmp', '.gif')): # Add or remove formats as needed\n",
        "        image_count += 1\n",
        "\n",
        "# Print the total count of images\n",
        "print(f\"Total number of images: {image_count}\")"
      ],
      "metadata": {
        "colab": {
          "base_uri": "https://localhost:8080/"
        },
        "id": "G1AvDTOZsWhP",
        "outputId": "5fa1c1f2-836c-4aeb-c58a-24c7cb6ae1e7"
      },
      "execution_count": 9,
      "outputs": [
        {
          "output_type": "stream",
          "name": "stdout",
          "text": [
            "Total number of images: 7393\n"
          ]
        }
      ]
    },
    {
      "cell_type": "code",
      "source": [
        "import os\n",
        "\n",
        "# Define the directory containing the images\n",
        "directory = \"/content/drive/MyDrive/Digital_Hand_Atlas_Dataset/Total_Images/Bordered_XRay_Images\"\n",
        "\n",
        "# Initialize a counter\n",
        "image_count = 0\n",
        "\n",
        "# List all files in the directory and increment the counter for each image\n",
        "for filename in os.listdir(directory):\n",
        "    if filename.endswith(('.png', '.jpg', '.jpeg', '.bmp', '.gif')): # Add or remove formats as needed\n",
        "        image_count += 1\n",
        "\n",
        "# Print the total count of images\n",
        "print(f\"Total number of images: {image_count}\")"
      ],
      "metadata": {
        "colab": {
          "base_uri": "https://localhost:8080/"
        },
        "id": "CDThQqKSryz-",
        "outputId": "9ae9697c-806b-4aad-d710-65ac046d39d4"
      },
      "execution_count": 8,
      "outputs": [
        {
          "output_type": "stream",
          "name": "stdout",
          "text": [
            "Total number of images: 7393\n"
          ]
        }
      ]
    },
    {
      "cell_type": "code",
      "source": [
        "import os\n",
        "\n",
        "# Define the directory to search\n",
        "directory = \"/content/drive/MyDrive/Digital_Hand_Atlas_Dataset/Total_Images/Bordered_XRay_Images\"\n",
        "\n",
        "# Generate a set of expected image names (assuming .jpg extension)\n",
        "expected_images = {f\"{i}.jpg\" for i in range(1, 7394)}\n",
        "\n",
        "# Get a set of actual image names in the directory\n",
        "actual_images = set(os.listdir(directory))\n",
        "\n",
        "# Find the difference - images that are missing\n",
        "missing_images = expected_images - actual_images\n",
        "\n",
        "# Print out the missing images\n",
        "if missing_images:\n",
        "    print(\"Missing images:\", sorted(missing_images))\n",
        "else:\n",
        "    print(\"No images are missing.\")"
      ],
      "metadata": {
        "colab": {
          "base_uri": "https://localhost:8080/"
        },
        "id": "sUFNWmUzs7Kh",
        "outputId": "9395cf12-a269-4a36-f8d5-7d3b8b8dc33d"
      },
      "execution_count": 10,
      "outputs": [
        {
          "output_type": "stream",
          "name": "stdout",
          "text": [
            "No images are missing.\n"
          ]
        }
      ]
    }
  ]
}