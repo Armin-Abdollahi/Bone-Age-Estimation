{
  "nbformat": 4,
  "nbformat_minor": 0,
  "metadata": {
    "colab": {
      "provenance": [],
      "authorship_tag": "ABX9TyNH94JjVz1cGhJRDqWwPyO7",
      "include_colab_link": true
    },
    "kernelspec": {
      "name": "python3",
      "display_name": "Python 3"
    },
    "language_info": {
      "name": "python"
    }
  },
  "cells": [
    {
      "cell_type": "markdown",
      "metadata": {
        "id": "view-in-github",
        "colab_type": "text"
      },
      "source": [
        "<a href=\"https://colab.research.google.com/github/Armin-Abdollahi/Bone-Age-Estimation/blob/main/Bone_Age_Estimation.ipynb\" target=\"_parent\"><img src=\"https://colab.research.google.com/assets/colab-badge.svg\" alt=\"Open In Colab\"/></a>"
      ]
    },
    {
      "cell_type": "code",
      "execution_count": null,
      "metadata": {
        "id": "lZO3HzSdG27T"
      },
      "outputs": [],
      "source": [
        "import numpy as np # linear algebra\n",
        "import pandas as pd # data processing, CSV file I/O (e.g. pd.read_csv)\n",
        "import tensorflow as tf\n",
        "import datetime, os\n",
        "import math\n",
        "import matplotlib.pyplot as plt\n",
        "import seaborn as sns\n",
        "from sklearn.model_selection import train_test_split\n",
        "from google.colab import drive"
      ]
    },
    {
      "cell_type": "code",
      "source": [
        "drive.mount('/content/drive')"
      ],
      "metadata": {
        "id": "AkdEQSpAhcM0"
      },
      "execution_count": null,
      "outputs": []
    },
    {
      "cell_type": "code",
      "source": [
        "#loading dataframes\n",
        "train_df = pd.read_csv('............................../boneage-training-dataset.csv')\n",
        "test_df = pd.read_csv('.............................../boneage-test-dataset.csv')\n",
        "\n",
        "#appending file extension to id column for both training and testing dataframes\n",
        "train_df['id'] = train_df['id'].apply(lambda x: str(x)+'.png')\n",
        "test_df['Case ID'] = test_df['Case ID'].apply(lambda x: str(x)+'.png') \n",
        "\n",
        "train_df.head()"
      ],
      "metadata": {
        "id": "1K4AHv9Mhl6n"
      },
      "execution_count": null,
      "outputs": []
    },
    {
      "cell_type": "code",
      "source": [
        "#finding out the number of male and female children in the dataset\n",
        "#creating a new column called gender to keep the gender of the child as a string\n",
        "train_df['gender'] = train_df['male'].apply(lambda x: 'male' if x else 'female')\n",
        "print(train_df['gender'].value_counts())\n",
        "sns.countplot(x = train_df['gender'])"
      ],
      "metadata": {
        "id": "BDj2lkdzjVnA"
      },
      "execution_count": null,
      "outputs": []
    },
    {
      "cell_type": "code",
      "source": [
        "#oldest child in the dataset\n",
        "print('MAX age: ' + str(train_df['boneage'].max()) + ' months')\n",
        "\n",
        "#youngest child in the dataset\n",
        "print('MIN age: ' + str(train_df['boneage'].min()) + ' months')\n",
        "\n",
        "#mean age is\n",
        "mean_bone_age = train_df['boneage'].mean()\n",
        "print('mean: ' + str(mean_bone_age))\n",
        "\n",
        "#median bone age\n",
        "print('median: ' +str(train_df['boneage'].median()))\n",
        "\n",
        "#standard deviation of boneage\n",
        "std_bone_age = train_df['boneage'].std()\n",
        "\n",
        "#models perform better when features are normalised to have zero mean and unity standard deviation\n",
        "#using z score for the training\n",
        "train_df['bone_age_z'] = (train_df['boneage'] - mean_bone_age)/(std_bone_age)\n",
        "\n",
        "print(train_df.head())"
      ],
      "metadata": {
        "id": "FRotqFtWjYqN"
      },
      "execution_count": null,
      "outputs": []
    },
    {
      "cell_type": "code",
      "source": [
        "#plotting a histogram for bone ages\n",
        "train_df['boneage'].hist(color = 'green')\n",
        "plt.xlabel('Age in months')\n",
        "plt.ylabel('Number of children')\n",
        "plt.title('Number of children in each age group')"
      ],
      "metadata": {
        "id": "ufGBivJtjcbR"
      },
      "execution_count": null,
      "outputs": []
    },
    {
      "cell_type": "code",
      "source": [
        "train_df['bone_age_z'].hist(color = 'violet')\n",
        "plt.xlabel('bone age z score')\n",
        "plt.ylabel('Number of children')\n",
        "plt.title('Relationship between number of children and bone age z score')"
      ],
      "metadata": {
        "id": "vfYeDO5-jfAM"
      },
      "execution_count": null,
      "outputs": []
    },
    {
      "cell_type": "code",
      "source": [
        "#Relationship between age and gender with a categorical scatter plot (swarmplot)\n",
        "sns.swarmplot(x = train_df['gender'], y = train_df['boneage'])"
      ],
      "metadata": {
        "id": "aV51JM9Ijhpm"
      },
      "execution_count": null,
      "outputs": []
    },
    {
      "cell_type": "code",
      "source": [
        "#distribution of age within each gender \n",
        "male = train_df[train_df['gender'] == 'male']\n",
        "female = train_df[train_df['gender'] == 'female']\n",
        "fig, ax = plt.subplots(2,1)\n",
        "ax[0].hist(male['boneage'], color = 'blue')\n",
        "ax[0].set_ylabel('Number of boys')\n",
        "ax[1].hist(female['boneage'], color = 'red')\n",
        "ax[1].set_xlabel('Age in months')\n",
        "ax[1].set_ylabel('Number of girls')\n",
        "fig.set_size_inches((10,7))"
      ],
      "metadata": {
        "id": "gpBQlsWajj-Q"
      },
      "execution_count": null,
      "outputs": []
    },
    {
      "cell_type": "code",
      "source": [
        "#splitting train dataframe into traininng and validation dataframes\n",
        "df_train, df_valid = train_test_split(train_df, test_size = 0.2, random_state = 0)"
      ],
      "metadata": {
        "id": "v9urGLxWjmbC"
      },
      "execution_count": null,
      "outputs": []
    },
    {
      "cell_type": "code",
      "source": [
        "import matplotlib.image as mpimg\n",
        "for filename, boneage, gender in train_df[['id','boneage','gender']].sample(4).values:\n",
        "    img = mpimg.imread('.................................'+ filename)\n",
        "    plt.imshow(img)\n",
        "    plt.title('Image name:{}  Bone age: {} years  Gender: {}'.format(filename, boneage/12, gender))\n",
        "    plt.axis('off')\n",
        "    plt.show()"
      ],
      "metadata": {
        "id": "9MuQ09JLjo4H"
      },
      "execution_count": null,
      "outputs": []
    },
    {
      "cell_type": "code",
      "source": [
        "#library required for image preprocessing\n",
        "from tensorflow.keras.preprocessing.image import ImageDataGenerator\n",
        "from  keras.applications.xception import preprocess_input \n",
        "\n",
        "#reducing down the size of the image \n",
        "img_size = 256\n",
        "\n",
        "train_data_generator = ImageDataGenerator(preprocessing_function = preprocess_input)\n",
        "val_data_generator = ImageDataGenerator(preprocessing_function = preprocess_input)\n",
        "\n",
        "#train data generator\n",
        "train_generator = train_data_generator.flow_from_dataframe(\n",
        "    dataframe = df_train,\n",
        "    directory = '.............................................................',\n",
        "    x_col= 'id',\n",
        "    y_col= 'bone_age_z',\n",
        "    batch_size = 32,\n",
        "    seed = 42,\n",
        "    shuffle = True,\n",
        "    class_mode= 'other',\n",
        "    flip_vertical = True,\n",
        "    color_mode = 'rgb',\n",
        "    target_size = (img_size, img_size))\n",
        "\n",
        "#validation data generator\n",
        "val_generator = val_data_generator.flow_from_dataframe(\n",
        "    dataframe = df_valid,\n",
        "    directory = '..............................................................',\n",
        "    x_col = 'id',\n",
        "    y_col = 'bone_age_z',\n",
        "    batch_size = 32,\n",
        "    seed = 42,\n",
        "    shuffle = True,\n",
        "    class_mode = 'other',\n",
        "    flip_vertical = True,\n",
        "    color_mode = 'rgb',\n",
        "    target_size = (img_size, img_size))\n",
        "\n",
        "#test data generator\n",
        "test_data_generator = ImageDataGenerator(preprocessing_function = preprocess_input)\n",
        "\n",
        "test_generator = test_data_generator.flow_from_directory(\n",
        "    directory = '.............................................................',\n",
        "    shuffle = True,\n",
        "    class_mode = None,\n",
        "    color_mode = 'rgb',\n",
        "    target_size = (img_size,img_size))"
      ],
      "metadata": {
        "id": "yv91FOEHjq2n"
      },
      "execution_count": null,
      "outputs": []
    },
    {
      "cell_type": "code",
      "source": [
        "test_X, test_Y = next(val_data_generator.flow_from_dataframe( \n",
        "                            df_valid, \n",
        "                            directory = '/kaggle/input/rsna-bone-age/boneage-training-dataset/boneage-training-dataset',\n",
        "                            x_col = 'id',\n",
        "                            y_col = 'bone_age_z', \n",
        "                            target_size = (img_size, img_size),\n",
        "                            batch_size = 2523,\n",
        "                            class_mode = 'other'\n",
        "                            )) "
      ],
      "metadata": {
        "id": "rWXQJwkwjyd4"
      },
      "execution_count": null,
      "outputs": []
    },
    {
      "cell_type": "code",
      "source": [
        "def plot_it(history):\n",
        "    '''function to plot training and validation error'''\n",
        "    fig, ax = plt.subplots( figsize=(20,10))\n",
        "    ax.plot(history.history['mae_in_months'])\n",
        "    ax.plot(history.history['val_mae_in_months'])\n",
        "    plt.title('Model Error')\n",
        "    plt.ylabel('error')\n",
        "    plt.xlabel('Epoch')\n",
        "    plt.legend(['Train', 'Val'], loc='upper right')\n",
        "    ax.grid(color='black')\n",
        "    plt.show()"
      ],
      "metadata": {
        "id": "-kyYT55Uj0u8"
      },
      "execution_count": null,
      "outputs": []
    },
    {
      "cell_type": "code",
      "source": [
        "from keras.metrics import mean_absolute_error\n",
        "def mae_in_months(x_p, y_p):\n",
        "    '''function to return mae in months'''\n",
        "    return mean_absolute_error((std_bone_age*x_p + mean_bone_age), (std_bone_age*y_p + mean_bone_age)) "
      ],
      "metadata": {
        "id": "pslDm4kGj3Cg"
      },
      "execution_count": null,
      "outputs": []
    },
    {
      "cell_type": "code",
      "source": [
        "from tensorflow.keras.layers import GlobalMaxPooling2D, Dense,Flatten\n",
        "from tensorflow.keras.callbacks import TensorBoard, ModelCheckpoint,EarlyStopping,ReduceLROnPlateau\n",
        "from tensorflow.keras import Sequential\n",
        "\n",
        "model_1 = tf.keras.applications.xception.Xception(input_shape = (img_size, img_size, 3),\n",
        "                                           include_top = False,\n",
        "                                           weights = 'imagenet')\n",
        "model_1.trainable = True\n",
        "model_2 = Sequential()\n",
        "model_2.add(model_1)\n",
        "model_2.add(GlobalMaxPooling2D())\n",
        "model_2.add(Flatten())\n",
        "model_2.add(Dense(10, activation = 'relu'))\n",
        "model_2.add(Dense(1, activation = 'linear'))\n",
        "\n",
        "\n",
        "#compile model\n",
        "model_2.compile(loss ='mse', optimizer= 'adam', metrics = [mae_in_months] )\n",
        "\n",
        "#model summary\n",
        "model_2.summary()"
      ],
      "metadata": {
        "id": "z6Acjga7j5pk"
      },
      "execution_count": null,
      "outputs": []
    },
    {
      "cell_type": "code",
      "source": [
        "# Load the TensorBoard notebook extension\n",
        "%load_ext tensorboard\n",
        "logs_dir = '.\\logs'\n",
        "%tensorboard --logdir {logs_dir}"
      ],
      "metadata": {
        "id": "2K8UPTdAj9jY"
      },
      "execution_count": null,
      "outputs": []
    },
    {
      "cell_type": "code",
      "source": [
        "#early stopping\n",
        "early_stopping = EarlyStopping(monitor='val_loss',\n",
        "                              min_delta=0,\n",
        "                              patience= 5,\n",
        "                              verbose=0, mode='auto')\n",
        "\n",
        "#model checkpoint\n",
        "mc = ModelCheckpoint('best_model.h5', monitor='val_loss', mode='min', save_best_only=True)\n",
        "\n",
        "#tensorboard callback\n",
        "logdir = os.path.join(logs_dir,datetime.datetime.now().strftime('%Y%m%d-%H%M%S'))\n",
        "tensorboard_callback =  TensorBoard(logdir, histogram_freq = 1)\n",
        "\n",
        "#reduce lr on plateau\n",
        "red_lr_plat = ReduceLROnPlateau(monitor='val_loss', factor=0.1, patience=10, verbose=0, mode='auto', min_delta=0.0001, cooldown=0, min_lr=0)\n",
        "\n",
        "callbacks = [tensorboard_callback,early_stopping,mc, red_lr_plat]\n",
        "\n",
        "\n",
        "#fit model\n",
        "history = model_2.fit_generator(train_generator,\n",
        "                            steps_per_epoch = 315,\n",
        "                            validation_data = val_generator,\n",
        "                            validation_steps = 1,\n",
        "                            epochs = 50,\n",
        "                            callbacks= callbacks)\n",
        "history\n",
        "%tensorboard --logdir logs\n",
        "plot_it(history)"
      ],
      "metadata": {
        "id": "KRU-amDvkAUu"
      },
      "execution_count": null,
      "outputs": []
    },
    {
      "cell_type": "code",
      "source": [
        "model_2.load_weights('best_model.h5')\n",
        "pred = mean_bone_age + std_bone_age*(model_2.predict(test_X, batch_size = 32, verbose = True))\n",
        "test_months = mean_bone_age + std_bone_age*(test_Y)\n",
        "\n",
        "ord_ind = np.argsort(test_Y)\n",
        "ord_ind = ord_ind[np.linspace(0, len(ord_ind)-1, 8).astype(int)] # take 8 evenly spaced ones\n",
        "fig, axs = plt.subplots(4, 2, figsize = (15, 30))\n",
        "for (ind, ax) in zip(ord_ind, axs.flatten()):\n",
        "    ax.imshow(test_X[ind, :,:,0], cmap = 'bone')\n",
        "    ax.set_title('Age: %fY\\nPredicted Age: %fY' % (test_months[ind]/12.0, \n",
        "                                                           pred[ind]/12.0))\n",
        "    ax.axis('off')\n",
        "fig.savefig('trained_image_predictions.png', dpi = 300)"
      ],
      "metadata": {
        "id": "tAexDSfBkG-I"
      },
      "execution_count": null,
      "outputs": []
    },
    {
      "cell_type": "code",
      "source": [
        "fig, ax = plt.subplots(figsize = (7,7))\n",
        "ax.plot(test_months, pred, 'r.', label = 'predictions')\n",
        "ax.plot(test_months, test_months, 'b-', label = 'actual')\n",
        "ax.legend(loc = 'upper right')\n",
        "ax.set_xlabel('Actual Age (Months)')\n",
        "ax.set_ylabel('Predicted Age (Months)')"
      ],
      "metadata": {
        "id": "rk2AdYaHkLYs"
      },
      "execution_count": null,
      "outputs": []
    },
    {
      "cell_type": "code",
      "source": [
        "test_generator.reset()\n",
        "y_pred = model_2.predict_generator(test_generator)\n",
        "predicted = y_pred.flatten()\n",
        "predicted_months = mean_bone_age + std_bone_age*(predicted)\n",
        "filenames=test_generator.filenames\n",
        "results=pd.DataFrame({\"Filename\":filenames,\n",
        "                      \"Predictions\": predicted_months})\n",
        "results.to_csv(\"results.csv\",index=False)"
      ],
      "metadata": {
        "id": "-Oihd9PVkOph"
      },
      "execution_count": null,
      "outputs": []
    },
    {
      "cell_type": "code",
      "source": [
        "# Finished"
      ],
      "metadata": {
        "id": "8OeCCDAddVy3"
      },
      "execution_count": null,
      "outputs": []
    }
  ]
}